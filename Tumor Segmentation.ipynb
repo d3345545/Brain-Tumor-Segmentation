{
 "cells": [
  {
   "cell_type": "markdown",
   "metadata": {},
   "source": [
    "## Library Imports"
   ]
  },
  {
   "cell_type": "code",
   "execution_count": 1,
   "metadata": {},
   "outputs": [
    {
     "name": "stdout",
     "output_type": "stream",
     "text": [
      "Computation Details\n",
      "\tDevice Used: (cuda)  GeForce GTX 1050 Ti\n",
      "\n",
      "Packages Used Versions:-\n",
      "\tPytorch Version: 1.0.1\n"
     ]
    }
   ],
   "source": [
    "import os\n",
    "import warnings\n",
    "import pickle\n",
    "warnings.filterwarnings('ignore')\n",
    "\n",
    "import torch\n",
    "from torch.utils.data import SubsetRandomSampler\n",
    "\n",
    "import numpy as np\n",
    "%matplotlib inline\n",
    "\n",
    "import bts.dataset as dataset\n",
    "import bts.model as model\n",
    "import bts.classifier as classifier\n",
    "import bts.plot as plot\n",
    "\n",
    "import torch\n",
    "\n",
    "device = torch.device('cuda' if torch.cuda.is_available() else 'cpu')\n",
    "\n",
    "print('Computation Details')\n",
    "print(f'\\tDevice Used: ({device})\\n')\n",
    "\n",
    "print('Packages Used Versions:-')\n",
    "print(f'\\tPytorch Version: {torch.__version__}')"
   ]
  },
  {
   "cell_type": "markdown",
   "metadata": {},
   "source": [
    "## Hyperparameters Tuning "
   ]
  },
  {
   "cell_type": "code",
   "execution_count": 2,
   "metadata": {},
   "outputs": [
    {
     "name": "stdout",
     "output_type": "stream",
     "text": [
      "Model Name :   UNet-[16, 32, 64, 128, 256].pt\n"
     ]
    }
   ],
   "source": [
    "TEST_SPLIT = 0.2\n",
    "BATCH_SIZE = 6\n",
    "DATASET_USED = 'png_dataset'\n",
    "DATASET_PATH = os.path.join('dataset',DATASET_USED)\n",
    "EPOCHS = 100\n",
    "FILTER_LIST = [16,32,64,128,256]\n",
    "TRAIN = False\n",
    "LOAD_MODEL = True\n",
    "SAVE_MODEL = False\n",
    "MODEL_NAME = f\"UNet-{FILTER_LIST}.pt\"\n",
    "\n",
    "print(f\"Model Name :   {MODEL_NAME}\")"
   ]
  },
  {
   "cell_type": "markdown",
   "metadata": {},
   "source": [
    "## Dataset Loading"
   ]
  },
  {
   "cell_type": "code",
   "execution_count": 10,
   "metadata": {},
   "outputs": [],
   "source": [
    "def get_indices(length, new=False):\n",
    "\n",
    "    \n",
    "    file_path = os.path.join('dataset',f'split_indices_{DATASET_USED}.p')\n",
    "    data = dict()\n",
    "    if os.path.isfile(file_path) and not new:\n",
    "        \n",
    "        with open(file_path,'rb') as file :\n",
    "            data = pickle.load(file)\n",
    "            return data['train_indices'], data['test_indices']\n",
    "    else:\n",
    "        \n",
    "        indices = list(range(length))\n",
    "        np.random.shuffle(indices)\n",
    "        split = int(np.floor(TEST_SPLIT * len(tumor_dataset)))\n",
    "        train_indices , test_indices = indices[split:], indices[:split]\n",
    "        \n",
    "        data['train_indices'] = train_indices\n",
    "        data['test_indices'] = test_indices\n",
    "        with open(file_path,'wb') as file:\n",
    "            pickle.dump(data,file)\n",
    "    return train_indices, test_indices"
   ]
  },
  {
   "cell_type": "code",
   "execution_count": 4,
   "metadata": {},
   "outputs": [],
   "source": [
    "import os\n",
    "import bts.dataset as dataset\n",
    "\n",
    "DATASET_PATH = 'Brain-Tumor-Segmentation-master\\Brain-Tumor-Segmentation-master\\dataset\\png_dataset'\n",
    "\n",
    "tumor_dataset = dataset.TumorDataset(DATASET_PATH)\n",
    "tumor_dataset = dataset.TumorDataset(DATASET_PATH)\n",
    "\n",
    "train_indices, test_indices = get_indices(len(tumor_dataset))\n",
    "train_sampler, test_sampler = SubsetRandomSampler(train_indices), SubsetRandomSampler(test_indices)\n",
    "\n",
    "trainloader = torch.utils.data.DataLoader(tumor_dataset, BATCH_SIZE, sampler=train_sampler)\n",
    "testloader = torch.utils.data.DataLoader(tumor_dataset, 1, sampler=test_sampler)"
   ]
  },
  {
   "cell_type": "markdown",
   "metadata": {},
   "source": [
    "## Model Declaration"
   ]
  },
  {
   "cell_type": "code",
   "execution_count": 5,
   "metadata": {},
   "outputs": [
    {
     "name": "stdout",
     "output_type": "stream",
     "text": [
      "Saved model loaded\n"
     ]
    }
   ],
   "source": [
    "unet_model = None\n",
    "unet_classifier = None\n",
    "\n",
    "if not LOAD_MODEL:\n",
    "  \n",
    "    unet_model = model.DynamicUNet(FILTER_LIST).to(device)\n",
    "    unet_classifier = classifier.BrainTumorClassifier(unet_model,device)\n",
    "else:\n",
    "    \n",
    "    unet_model = model.DynamicUNet(FILTER_LIST)\n",
    "    unet_classifier = classifier.BrainTumorClassifier(unet_model,device)\n",
    "    \n",
    "    \n",
    "    state_dict = torch.load(os.path.join('saved_models', MODEL_NAME), map_location=torch.device('cpu'))\n",
    "    unet_model.load_state_dict(state_dict)\n",
    "    unet_model.to(device)  # Move the model to the desired device (CPU)\n",
    "\n",
    "print('Saved model loaded')\n"
   ]
  },
  {
   "cell_type": "markdown",
   "metadata": {},
   "source": [
    "## Model Training"
   ]
  },
  {
   "cell_type": "code",
   "execution_count": 2,
   "metadata": {},
   "outputs": [],
   "source": [
    "class BrainTumorClassifier:\n",
    "    def __init__(self, model, device):\n",
    "        self.model = model\n",
    "        self.device = device\n",
    "\n",
    "    def test(self, testloader, threshold=0.5):\n",
    "        self.model.eval()\n",
    "        total_score = 0.0\n",
    "        total_samples = 0\n",
    "\n",
    "        for data in testloader:\n",
    "            input_data, target_data = data['image'].to(self.device), data['mask'].to(self.device)\n",
    "            output = self.model(input_data)\n",
    "        \n",
    "            dice_score = dice_coefficient(output, target_data)\n",
    "            total_score += dice_score.item()\n",
    "            total_samples += 1\n",
    "\n",
    "        average_score = total_score / total_samples\n",
    "        return average_score\n"
   ]
  },
  {
   "cell_type": "markdown",
   "metadata": {},
   "source": [
    "## Training Results"
   ]
  },
  {
   "cell_type": "markdown",
   "metadata": {},
   "source": [
    "### Training Loss Graph"
   ]
  },
  {
   "cell_type": "code",
   "execution_count": null,
   "metadata": {},
   "outputs": [],
   "source": [
    "path = os.path.join('saved_models', MODEL_NAME) if SAVE_MODEL else None\n",
    "\n",
    "unet_train_history = unet_classifier.train(EPOCHS, trainloader, mini_batch=100, save_best=path)\n",
    "save_plot = os.path.join('images', f'{MODEL_NAME}-loss_graph.png')\n",
    "plot.loss_graph(unet_train_history['train_loss'], save_plot)\n"
   ]
  },
  {
   "cell_type": "markdown",
   "metadata": {},
   "source": [
    "### Visualize Test Dataset Predictions"
   ]
  },
  {
   "cell_type": "code",
   "execution_count": null,
   "metadata": {},
   "outputs": [],
   "source": [
    "image_index = test_indices[i]\n",
    "sample = tumor_dataset[image_index]\n",
    "image, mask, output, d_score = unet_classifier.predict(sample,0.65)\n",
    "title = f'Name: {image_index}.png   Dice Score: {d_score:.5f}'\n",
    "# save_path = os.path.join('images',f'{d_score:.5f}_{image_index}.png')\n",
    "plot.result(image,mask,output,title,save_path=None)\n",
    "i += 1\n",
    "if i >= len(test_indices):\n",
    "    i = 0 "
   ]
  }
 ],
 "metadata": {
  "kernelspec": {
   "display_name": "Python 3",
   "language": "python",
   "name": "python3"
  },
  "language_info": {
   "codemirror_mode": {
    "name": "ipython",
    "version": 3
   },
   "file_extension": ".py",
   "mimetype": "text/x-python",
   "name": "python",
   "nbconvert_exporter": "python",
   "pygments_lexer": "ipython3",
   "version": "3.13.0"
  }
 },
 "nbformat": 4,
 "nbformat_minor": 2
}
